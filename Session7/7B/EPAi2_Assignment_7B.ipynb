{
  "nbformat": 4,
  "nbformat_minor": 0,
  "metadata": {
    "colab": {
      "name": "EPAi2-Assignment-7B.ipynb",
      "provenance": [],
      "collapsed_sections": [],
      "authorship_tag": "ABX9TyOIEiU/wWDALmnhHWd5QkWV",
      "include_colab_link": true
    },
    "kernelspec": {
      "name": "python3",
      "display_name": "Python 3"
    }
  },
  "cells": [
    {
      "cell_type": "markdown",
      "metadata": {
        "id": "view-in-github",
        "colab_type": "text"
      },
      "source": [
        "<a href=\"https://colab.research.google.com/github/GauravPatel89/EPAi2-Assignments/blob/main/Session7/7B/EPAi2_Assignment_7B.ipynb\" target=\"_parent\"><img src=\"https://colab.research.google.com/assets/colab-badge.svg\" alt=\"Open In Colab\"/></a>"
      ]
    },
    {
      "cell_type": "code",
      "metadata": {
        "colab": {
          "base_uri": "https://localhost:8080/"
        },
        "id": "DBrskBAOM88W",
        "outputId": "d0cdca66-4bf3-447c-f8ad-2a2e9093e636"
      },
      "source": [
        "!git clone https://github.com/GauravPatel89/EPAi2-Assignments.git"
      ],
      "execution_count": 9,
      "outputs": [
        {
          "output_type": "stream",
          "text": [
            "Cloning into 'EPAi2-Assignments'...\n",
            "remote: Enumerating objects: 40, done.\u001b[K\n",
            "remote: Counting objects: 100% (40/40), done.\u001b[K\n",
            "remote: Compressing objects: 100% (34/34), done.\u001b[K\n",
            "remote: Total 40 (delta 8), reused 2 (delta 0), pack-reused 0\u001b[K\n",
            "Unpacking objects: 100% (40/40), done.\n"
          ],
          "name": "stdout"
        }
      ]
    },
    {
      "cell_type": "code",
      "metadata": {
        "colab": {
          "base_uri": "https://localhost:8080/"
        },
        "id": "ag_OLlW7NA3X",
        "outputId": "f1693464-7a35-4dbf-92a1-1ab1ce40bde9"
      },
      "source": [
        "%cd /content/\n",
        "!ls"
      ],
      "execution_count": 8,
      "outputs": [
        {
          "output_type": "stream",
          "text": [
            "/content\n",
            "sample_data\n"
          ],
          "name": "stdout"
        }
      ]
    },
    {
      "cell_type": "code",
      "metadata": {
        "colab": {
          "base_uri": "https://localhost:8080/"
        },
        "id": "fqQHQxJKNEI0",
        "outputId": "728a9d61-99f6-490d-95ea-9c4413ae2cba"
      },
      "source": [
        "%cd EPAi2-Assignments/Session7/7B"
      ],
      "execution_count": 10,
      "outputs": [
        {
          "output_type": "stream",
          "text": [
            "/content/EPAi2-Assignments/Session7/7B\n"
          ],
          "name": "stdout"
        }
      ]
    },
    {
      "cell_type": "markdown",
      "metadata": {
        "id": "Xtba3Ec1NRIJ"
      },
      "source": [
        "## Objective 1"
      ]
    },
    {
      "cell_type": "code",
      "metadata": {
        "colab": {
          "base_uri": "https://localhost:8080/"
        },
        "id": "v4HgIydiPIq6",
        "outputId": "a4203df5-8701-445f-fff1-a7de8dfea87d"
      },
      "source": [
        "from assignment_7b import *\n",
        "triangle = Polygon(3,10.0)\n",
        "print(triangle)"
      ],
      "execution_count": 11,
      "outputs": [
        {
          "output_type": "stream",
          "text": [
            "Polygon: n = 3, R = 10.0\n",
            "Interior angle = 60.0, Area = 129.9038105676658\n"
          ],
          "name": "stdout"
        }
      ]
    },
    {
      "cell_type": "code",
      "metadata": {
        "colab": {
          "base_uri": "https://localhost:8080/"
        },
        "id": "bqP9HZPGXCmb",
        "outputId": "6c50f737-6eba-45ed-f39f-ec79e56a5e01"
      },
      "source": [
        "# Test object creation and printing\n",
        "square = Polygon(4,10.0)\n",
        "print(square)"
      ],
      "execution_count": 21,
      "outputs": [
        {
          "output_type": "stream",
          "text": [
            "Polygon: n = 4, R = 10.0\n",
            "Interior angle = 90.0, Area = 200.0\n"
          ],
          "name": "stdout"
        }
      ]
    },
    {
      "cell_type": "code",
      "metadata": {
        "colab": {
          "base_uri": "https://localhost:8080/"
        },
        "id": "UiXXzUGwXIz0",
        "outputId": "4ef7c76d-b762-4372-c78a-f67906e4e0ff"
      },
      "source": [
        "# Test equality condition\n",
        "print(triangle == square)"
      ],
      "execution_count": 22,
      "outputs": [
        {
          "output_type": "stream",
          "text": [
            "False\n"
          ],
          "name": "stdout"
        }
      ]
    },
    {
      "cell_type": "code",
      "metadata": {
        "colab": {
          "base_uri": "https://localhost:8080/"
        },
        "id": "VdG2eXeNXMm2",
        "outputId": "c37aea4d-71ce-4801-94b5-2ccd4eba7ac7"
      },
      "source": [
        "# test > condition\n",
        "print(square > triangle)"
      ],
      "execution_count": 23,
      "outputs": [
        {
          "output_type": "stream",
          "text": [
            "True\n"
          ],
          "name": "stdout"
        }
      ]
    },
    {
      "cell_type": "code",
      "metadata": {
        "colab": {
          "base_uri": "https://localhost:8080/"
        },
        "id": "_26nHprwQts2",
        "outputId": "ee93d425-865d-4ed8-e3f2-99471b7e202e"
      },
      "source": [
        "# test __repr()__\n",
        "triangle"
      ],
      "execution_count": 12,
      "outputs": [
        {
          "output_type": "execute_result",
          "data": {
            "text/plain": [
              "Polygon(num_vertices=3,circum_radius=10.0)"
            ]
          },
          "metadata": {
            "tags": []
          },
          "execution_count": 12
        }
      ]
    },
    {
      "cell_type": "markdown",
      "metadata": {
        "id": "oTjwsqj8Q77K"
      },
      "source": [
        "## Objective 2"
      ]
    },
    {
      "cell_type": "code",
      "metadata": {
        "colab": {
          "base_uri": "https://localhost:8080/"
        },
        "id": "7FxHZOi19_vK",
        "outputId": "84479fd4-e5ab-458c-bcbb-9f3ef38809f3"
      },
      "source": [
        "from assignment_7b import *\n",
        "\n",
        "# Create polygon sequence with max vertices 25 and circum radius 10\n",
        "\n",
        "test_poly_sequence = Polygon_sequence(25,10.0)\n",
        "\n",
        "# Test object printing \n",
        "print(test_poly_sequence)\n",
        "\n",
        "# Test __repr()__\n",
        "test_poly_sequence"
      ],
      "execution_count": 14,
      "outputs": [
        {
          "output_type": "stream",
          "text": [
            "Polygon_sequence: [Polygon with vertices = 3 to vertices = 25 and Circum radius = 10.0]\n"
          ],
          "name": "stdout"
        },
        {
          "output_type": "execute_result",
          "data": {
            "text/plain": [
              "Polygon_sequence(max_num_vertices=25,circum_radius=10.0)"
            ]
          },
          "metadata": {
            "tags": []
          },
          "execution_count": 14
        }
      ]
    },
    {
      "cell_type": "code",
      "metadata": {
        "colab": {
          "base_uri": "https://localhost:8080/"
        },
        "id": "77DC5Q-YRkNh",
        "outputId": "d0b9a383-36c8-4c7b-de5f-40b2b98a2bab"
      },
      "source": [
        "# Find Maximum efficiency polygon\n",
        "print('Max Efficiency Polygon\\n',test_poly_sequence.max_efficiency_polygon)  "
      ],
      "execution_count": 16,
      "outputs": [
        {
          "output_type": "stream",
          "text": [
            "Max Efficiency Polygon\n",
            " Polygon: n = 25, R = 10.0\n",
            "Interior angle = 165.6, Area = 310.86235895606853\n"
          ],
          "name": "stdout"
        }
      ]
    },
    {
      "cell_type": "code",
      "metadata": {
        "colab": {
          "base_uri": "https://localhost:8080/"
        },
        "id": "tIYoz4dR5TUo",
        "outputId": "546842d4-da8e-4219-d67f-a4f233b7c084"
      },
      "source": [
        "# Test __getitem__() for iteration\n",
        "for p in test_poly_sequence:\n",
        "  print(p,'\\n')\n",
        "\n"
      ],
      "execution_count": 19,
      "outputs": [
        {
          "output_type": "stream",
          "text": [
            "Polygon: n = 3, R = 10\n",
            "Interior angle = 60.0, Area = 129.9038105676658 \n",
            "\n",
            "Polygon: n = 4, R = 10\n",
            "Interior angle = 90.0, Area = 200.0 \n",
            "\n",
            "Polygon: n = 5, R = 10\n",
            "Interior angle = 108.0, Area = 237.76412907378844 \n",
            "\n",
            "Polygon: n = 6, R = 10\n",
            "Interior angle = 120.0, Area = 259.80762113533154 \n",
            "\n",
            "Polygon: n = 7, R = 10\n",
            "Interior angle = 128.57142857142858, Area = 273.6410188638105 \n",
            "\n",
            "Polygon: n = 8, R = 10\n",
            "Interior angle = 135.0, Area = 282.842712474619 \n",
            "\n",
            "Polygon: n = 9, R = 10\n",
            "Interior angle = 140.0, Area = 289.2544243589427 \n",
            "\n",
            "Polygon: n = 10, R = 10\n",
            "Interior angle = 144.0, Area = 293.8926261462365 \n",
            "\n",
            "Polygon: n = 11, R = 10\n",
            "Interior angle = 147.27272727272728, Area = 297.35244960057867 \n",
            "\n",
            "Polygon: n = 12, R = 10\n",
            "Interior angle = 150.0, Area = 300.0 \n",
            "\n",
            "Polygon: n = 13, R = 10\n",
            "Interior angle = 152.30769230769232, Area = 302.0700618284495 \n",
            "\n",
            "Polygon: n = 14, R = 10\n",
            "Interior angle = 154.28571428571428, Area = 303.7186173822907 \n",
            "\n",
            "Polygon: n = 15, R = 10\n",
            "Interior angle = 156.0, Area = 305.05248230685015 \n",
            "\n",
            "Polygon: n = 16, R = 10\n",
            "Interior angle = 157.5, Area = 306.14674589207175 \n",
            "\n",
            "Polygon: n = 17, R = 10\n",
            "Interior angle = 158.8235294117647, Area = 307.05541625908 \n",
            "\n",
            "Polygon: n = 18, R = 10\n",
            "Interior angle = 160.0, Area = 307.81812899310177 \n",
            "\n",
            "Polygon: n = 19, R = 10\n",
            "Interior angle = 161.05263157894737, Area = 308.46449574444927 \n",
            "\n",
            "Polygon: n = 20, R = 10\n",
            "Interior angle = 162.0, Area = 309.01699437494744 \n",
            "\n",
            "Polygon: n = 21, R = 10\n",
            "Interior angle = 162.85714285714286, Area = 309.49293313144943 \n",
            "\n",
            "Polygon: n = 22, R = 10\n",
            "Interior angle = 163.63636363636363, Area = 309.9058125255727 \n",
            "\n",
            "Polygon: n = 23, R = 10\n",
            "Interior angle = 164.34782608695653, Area = 310.2662868305779 \n",
            "\n",
            "Polygon: n = 24, R = 10\n",
            "Interior angle = 165.0, Area = 310.58285412302484 \n",
            "\n",
            "Polygon: n = 25, R = 10\n",
            "Interior angle = 165.6, Area = 310.86235895606853 \n",
            "\n"
          ],
          "name": "stdout"
        }
      ]
    },
    {
      "cell_type": "code",
      "metadata": {
        "colab": {
          "base_uri": "https://localhost:8080/"
        },
        "id": "Z6wtaC5l6_Xr",
        "outputId": "b5032c36-0ae1-498c-e71f-8e47bf60be16"
      },
      "source": [
        "# Test __len__()\n",
        "print('Length of test_poly_sequence: ',len(test_poly_sequence))"
      ],
      "execution_count": 20,
      "outputs": [
        {
          "output_type": "stream",
          "text": [
            "Length of test_poly_sequence:  23\n"
          ],
          "name": "stdout"
        }
      ]
    }
  ]
}