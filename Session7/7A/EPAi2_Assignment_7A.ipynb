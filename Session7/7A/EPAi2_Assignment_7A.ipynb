{
  "nbformat": 4,
  "nbformat_minor": 0,
  "metadata": {
    "colab": {
      "name": "EPAi2-Assignment-7A.ipynb",
      "provenance": [],
      "collapsed_sections": [],
      "authorship_tag": "ABX9TyN9O8tSDo8jKmYCfz5nfk6R",
      "include_colab_link": true
    },
    "kernelspec": {
      "name": "python3",
      "display_name": "Python 3"
    }
  },
  "cells": [
    {
      "cell_type": "markdown",
      "metadata": {
        "id": "view-in-github",
        "colab_type": "text"
      },
      "source": [
        "<a href=\"https://colab.research.google.com/github/GauravPatel89/EPAi2-Assignments/blob/main/Session7/7A/EPAi2_Assignment_7A.ipynb\" target=\"_parent\"><img src=\"https://colab.research.google.com/assets/colab-badge.svg\" alt=\"Open In Colab\"/></a>"
      ]
    },
    {
      "cell_type": "markdown",
      "metadata": {
        "id": "Kb5wWvv3gqWG"
      },
      "source": [
        "\n",
        "  - Use Faker library to get 10000 random profiles. Using namedtuple, calculate the largest blood type, mean-current_location, oldest_person_age and average age (add proper doc-strings). - 250\n",
        "  - Do the same thing above using a dictionary. Prove that namedtuple is faster. - 250\n",
        "  - Create a fake data (you can use Faker for company names) for imaginary stock exchange for top 100 companies (name, symbol, open, high, close). Assign a random weight to all the companies. Calculate (for 50 instances during the day) and show what value stock market started at, what was the highest value during the day and where did it end. Make sure your open, high, close are not totally random. You can only use namedtuple. - 500\n"
      ]
    },
    {
      "cell_type": "code",
      "metadata": {
        "colab": {
          "base_uri": "https://localhost:8080/"
        },
        "id": "YEygBFS0bXdp",
        "outputId": "054e3019-ae6e-4c63-d5fa-a25729a864e6"
      },
      "source": [
        "!pip install Faker"
      ],
      "execution_count": null,
      "outputs": [
        {
          "output_type": "stream",
          "text": [
            "Collecting Faker\n",
            "\u001b[?25l  Downloading https://files.pythonhosted.org/packages/fa/d4/cb82441718bccaed9e3322c64d39438d40568b7a8ae33458f28a1a8b2155/Faker-6.5.0-py3-none-any.whl (1.1MB)\n",
            "\r\u001b[K     |▎                               | 10kB 16.1MB/s eta 0:00:01\r\u001b[K     |▋                               | 20kB 21.6MB/s eta 0:00:01\r\u001b[K     |▉                               | 30kB 14.3MB/s eta 0:00:01\r\u001b[K     |█▏                              | 40kB 9.9MB/s eta 0:00:01\r\u001b[K     |█▌                              | 51kB 8.4MB/s eta 0:00:01\r\u001b[K     |█▊                              | 61kB 8.0MB/s eta 0:00:01\r\u001b[K     |██                              | 71kB 9.0MB/s eta 0:00:01\r\u001b[K     |██▍                             | 81kB 9.7MB/s eta 0:00:01\r\u001b[K     |██▋                             | 92kB 8.1MB/s eta 0:00:01\r\u001b[K     |███                             | 102kB 8.7MB/s eta 0:00:01\r\u001b[K     |███▏                            | 112kB 8.7MB/s eta 0:00:01\r\u001b[K     |███▌                            | 122kB 8.7MB/s eta 0:00:01\r\u001b[K     |███▉                            | 133kB 8.7MB/s eta 0:00:01\r\u001b[K     |████                            | 143kB 8.7MB/s eta 0:00:01\r\u001b[K     |████▍                           | 153kB 8.7MB/s eta 0:00:01\r\u001b[K     |████▊                           | 163kB 8.7MB/s eta 0:00:01\r\u001b[K     |█████                           | 174kB 8.7MB/s eta 0:00:01\r\u001b[K     |█████▎                          | 184kB 8.7MB/s eta 0:00:01\r\u001b[K     |█████▌                          | 194kB 8.7MB/s eta 0:00:01\r\u001b[K     |█████▉                          | 204kB 8.7MB/s eta 0:00:01\r\u001b[K     |██████▏                         | 215kB 8.7MB/s eta 0:00:01\r\u001b[K     |██████▍                         | 225kB 8.7MB/s eta 0:00:01\r\u001b[K     |██████▊                         | 235kB 8.7MB/s eta 0:00:01\r\u001b[K     |███████                         | 245kB 8.7MB/s eta 0:00:01\r\u001b[K     |███████▎                        | 256kB 8.7MB/s eta 0:00:01\r\u001b[K     |███████▋                        | 266kB 8.7MB/s eta 0:00:01\r\u001b[K     |███████▉                        | 276kB 8.7MB/s eta 0:00:01\r\u001b[K     |████████▏                       | 286kB 8.7MB/s eta 0:00:01\r\u001b[K     |████████▌                       | 296kB 8.7MB/s eta 0:00:01\r\u001b[K     |████████▊                       | 307kB 8.7MB/s eta 0:00:01\r\u001b[K     |█████████                       | 317kB 8.7MB/s eta 0:00:01\r\u001b[K     |█████████▍                      | 327kB 8.7MB/s eta 0:00:01\r\u001b[K     |█████████▋                      | 337kB 8.7MB/s eta 0:00:01\r\u001b[K     |██████████                      | 348kB 8.7MB/s eta 0:00:01\r\u001b[K     |██████████▎                     | 358kB 8.7MB/s eta 0:00:01\r\u001b[K     |██████████▌                     | 368kB 8.7MB/s eta 0:00:01\r\u001b[K     |██████████▉                     | 378kB 8.7MB/s eta 0:00:01\r\u001b[K     |███████████                     | 389kB 8.7MB/s eta 0:00:01\r\u001b[K     |███████████▍                    | 399kB 8.7MB/s eta 0:00:01\r\u001b[K     |███████████▊                    | 409kB 8.7MB/s eta 0:00:01\r\u001b[K     |████████████                    | 419kB 8.7MB/s eta 0:00:01\r\u001b[K     |████████████▎                   | 430kB 8.7MB/s eta 0:00:01\r\u001b[K     |████████████▋                   | 440kB 8.7MB/s eta 0:00:01\r\u001b[K     |████████████▉                   | 450kB 8.7MB/s eta 0:00:01\r\u001b[K     |█████████████▏                  | 460kB 8.7MB/s eta 0:00:01\r\u001b[K     |█████████████▍                  | 471kB 8.7MB/s eta 0:00:01\r\u001b[K     |█████████████▊                  | 481kB 8.7MB/s eta 0:00:01\r\u001b[K     |██████████████                  | 491kB 8.7MB/s eta 0:00:01\r\u001b[K     |██████████████▎                 | 501kB 8.7MB/s eta 0:00:01\r\u001b[K     |██████████████▋                 | 512kB 8.7MB/s eta 0:00:01\r\u001b[K     |███████████████                 | 522kB 8.7MB/s eta 0:00:01\r\u001b[K     |███████████████▏                | 532kB 8.7MB/s eta 0:00:01\r\u001b[K     |███████████████▌                | 542kB 8.7MB/s eta 0:00:01\r\u001b[K     |███████████████▊                | 552kB 8.7MB/s eta 0:00:01\r\u001b[K     |████████████████                | 563kB 8.7MB/s eta 0:00:01\r\u001b[K     |████████████████▍               | 573kB 8.7MB/s eta 0:00:01\r\u001b[K     |████████████████▋               | 583kB 8.7MB/s eta 0:00:01\r\u001b[K     |█████████████████               | 593kB 8.7MB/s eta 0:00:01\r\u001b[K     |█████████████████▎              | 604kB 8.7MB/s eta 0:00:01\r\u001b[K     |█████████████████▌              | 614kB 8.7MB/s eta 0:00:01\r\u001b[K     |█████████████████▉              | 624kB 8.7MB/s eta 0:00:01\r\u001b[K     |██████████████████▏             | 634kB 8.7MB/s eta 0:00:01\r\u001b[K     |██████████████████▍             | 645kB 8.7MB/s eta 0:00:01\r\u001b[K     |██████████████████▊             | 655kB 8.7MB/s eta 0:00:01\r\u001b[K     |███████████████████             | 665kB 8.7MB/s eta 0:00:01\r\u001b[K     |███████████████████▎            | 675kB 8.7MB/s eta 0:00:01\r\u001b[K     |███████████████████▋            | 686kB 8.7MB/s eta 0:00:01\r\u001b[K     |███████████████████▉            | 696kB 8.7MB/s eta 0:00:01\r\u001b[K     |████████████████████▏           | 706kB 8.7MB/s eta 0:00:01\r\u001b[K     |████████████████████▌           | 716kB 8.7MB/s eta 0:00:01\r\u001b[K     |████████████████████▊           | 727kB 8.7MB/s eta 0:00:01\r\u001b[K     |█████████████████████           | 737kB 8.7MB/s eta 0:00:01\r\u001b[K     |█████████████████████▎          | 747kB 8.7MB/s eta 0:00:01\r\u001b[K     |█████████████████████▋          | 757kB 8.7MB/s eta 0:00:01\r\u001b[K     |██████████████████████          | 768kB 8.7MB/s eta 0:00:01\r\u001b[K     |██████████████████████▏         | 778kB 8.7MB/s eta 0:00:01\r\u001b[K     |██████████████████████▌         | 788kB 8.7MB/s eta 0:00:01\r\u001b[K     |██████████████████████▉         | 798kB 8.7MB/s eta 0:00:01\r\u001b[K     |███████████████████████         | 808kB 8.7MB/s eta 0:00:01\r\u001b[K     |███████████████████████▍        | 819kB 8.7MB/s eta 0:00:01\r\u001b[K     |███████████████████████▋        | 829kB 8.7MB/s eta 0:00:01\r\u001b[K     |████████████████████████        | 839kB 8.7MB/s eta 0:00:01\r\u001b[K     |████████████████████████▎       | 849kB 8.7MB/s eta 0:00:01\r\u001b[K     |████████████████████████▌       | 860kB 8.7MB/s eta 0:00:01\r\u001b[K     |████████████████████████▉       | 870kB 8.7MB/s eta 0:00:01\r\u001b[K     |█████████████████████████▏      | 880kB 8.7MB/s eta 0:00:01\r\u001b[K     |█████████████████████████▍      | 890kB 8.7MB/s eta 0:00:01\r\u001b[K     |█████████████████████████▊      | 901kB 8.7MB/s eta 0:00:01\r\u001b[K     |██████████████████████████      | 911kB 8.7MB/s eta 0:00:01\r\u001b[K     |██████████████████████████▎     | 921kB 8.7MB/s eta 0:00:01\r\u001b[K     |██████████████████████████▋     | 931kB 8.7MB/s eta 0:00:01\r\u001b[K     |██████████████████████████▉     | 942kB 8.7MB/s eta 0:00:01\r\u001b[K     |███████████████████████████▏    | 952kB 8.7MB/s eta 0:00:01\r\u001b[K     |███████████████████████████▌    | 962kB 8.7MB/s eta 0:00:01\r\u001b[K     |███████████████████████████▊    | 972kB 8.7MB/s eta 0:00:01\r\u001b[K     |████████████████████████████    | 983kB 8.7MB/s eta 0:00:01\r\u001b[K     |████████████████████████████▍   | 993kB 8.7MB/s eta 0:00:01\r\u001b[K     |████████████████████████████▋   | 1.0MB 8.7MB/s eta 0:00:01\r\u001b[K     |█████████████████████████████   | 1.0MB 8.7MB/s eta 0:00:01\r\u001b[K     |█████████████████████████████▏  | 1.0MB 8.7MB/s eta 0:00:01\r\u001b[K     |█████████████████████████████▌  | 1.0MB 8.7MB/s eta 0:00:01\r\u001b[K     |█████████████████████████████▉  | 1.0MB 8.7MB/s eta 0:00:01\r\u001b[K     |██████████████████████████████  | 1.1MB 8.7MB/s eta 0:00:01\r\u001b[K     |██████████████████████████████▍ | 1.1MB 8.7MB/s eta 0:00:01\r\u001b[K     |██████████████████████████████▊ | 1.1MB 8.7MB/s eta 0:00:01\r\u001b[K     |███████████████████████████████ | 1.1MB 8.7MB/s eta 0:00:01\r\u001b[K     |███████████████████████████████▎| 1.1MB 8.7MB/s eta 0:00:01\r\u001b[K     |███████████████████████████████▌| 1.1MB 8.7MB/s eta 0:00:01\r\u001b[K     |███████████████████████████████▉| 1.1MB 8.7MB/s eta 0:00:01\r\u001b[K     |████████████████████████████████| 1.1MB 8.7MB/s \n",
            "\u001b[?25hRequirement already satisfied: text-unidecode==1.3 in /usr/local/lib/python3.7/dist-packages (from Faker) (1.3)\n",
            "Requirement already satisfied: python-dateutil>=2.4 in /usr/local/lib/python3.7/dist-packages (from Faker) (2.8.1)\n",
            "Requirement already satisfied: six>=1.5 in /usr/local/lib/python3.7/dist-packages (from python-dateutil>=2.4->Faker) (1.15.0)\n",
            "Installing collected packages: Faker\n",
            "Successfully installed Faker-6.5.0\n"
          ],
          "name": "stdout"
        }
      ]
    },
    {
      "cell_type": "code",
      "metadata": {
        "id": "FiyojuTgcz7w"
      },
      "source": [
        "from faker import Faker"
      ],
      "execution_count": null,
      "outputs": []
    },
    {
      "cell_type": "markdown",
      "metadata": {
        "id": "u9-tNF_K7Qlx"
      },
      "source": [
        "## Profiles using namedtuples"
      ]
    },
    {
      "cell_type": "code",
      "metadata": {
        "id": "keDcltSap0Hr"
      },
      "source": [
        "from collections import namedtuple\n",
        "Person = namedtuple('Person', 'name age blood_group loc_latitude loc_longitude')\n",
        "Person.__doc__ = 'Representation of Persons containing Fields: name,age,blood_group, loc_latitude, loc_longitude'\n",
        "Person.name.__doc__ = \"Name of the Person\"\n",
        "Person.age.__doc__ = \"Age of the person in Years\"\n",
        "Person.blood_group.__doc__ = \"Blood group of the Person\"\n",
        "Person.loc_latitude.__doc__= \"Latitude of Person's current location\"\n",
        "Person.loc_longitude.__doc__= \"Longitude of Person's current location\""
      ],
      "execution_count": null,
      "outputs": []
    },
    {
      "cell_type": "code",
      "metadata": {
        "colab": {
          "base_uri": "https://localhost:8080/"
        },
        "id": "QvmkO_79tIBc",
        "outputId": "3294aedb-8d9d-4a1e-9c5e-4a846f72f8c0"
      },
      "source": [
        "help(Person)"
      ],
      "execution_count": null,
      "outputs": [
        {
          "output_type": "stream",
          "text": [
            "Help on class Person in module __main__:\n",
            "\n",
            "class Person(builtins.tuple)\n",
            " |  Person(name, age, blood_group, loc_latitude, loc_longitude)\n",
            " |  \n",
            " |  Representation of Persons containing Fields: name,age,blood_group, loc_latitude, loc_longitude\n",
            " |  \n",
            " |  Method resolution order:\n",
            " |      Person\n",
            " |      builtins.tuple\n",
            " |      builtins.object\n",
            " |  \n",
            " |  Methods defined here:\n",
            " |  \n",
            " |  __getnewargs__(self)\n",
            " |      Return self as a plain tuple.  Used by copy and pickle.\n",
            " |  \n",
            " |  __repr__(self)\n",
            " |      Return a nicely formatted representation string\n",
            " |  \n",
            " |  _asdict(self)\n",
            " |      Return a new OrderedDict which maps field names to their values.\n",
            " |  \n",
            " |  _replace(_self, **kwds)\n",
            " |      Return a new Person object replacing specified fields with new values\n",
            " |  \n",
            " |  ----------------------------------------------------------------------\n",
            " |  Class methods defined here:\n",
            " |  \n",
            " |  _make(iterable) from builtins.type\n",
            " |      Make a new Person object from a sequence or iterable\n",
            " |  \n",
            " |  ----------------------------------------------------------------------\n",
            " |  Static methods defined here:\n",
            " |  \n",
            " |  __new__(_cls, name, age, blood_group, loc_latitude, loc_longitude)\n",
            " |      Create new instance of Person(name, age, blood_group, loc_latitude, loc_longitude)\n",
            " |  \n",
            " |  ----------------------------------------------------------------------\n",
            " |  Data descriptors defined here:\n",
            " |  \n",
            " |  name\n",
            " |      Name of the Person\n",
            " |  \n",
            " |  age\n",
            " |      Age of the person in Years\n",
            " |  \n",
            " |  blood_group\n",
            " |      Blood group of the Person\n",
            " |  \n",
            " |  loc_latitude\n",
            " |      Latitude of Person's current location\n",
            " |  \n",
            " |  loc_longitude\n",
            " |      Longitude of Person's current location\n",
            " |  \n",
            " |  ----------------------------------------------------------------------\n",
            " |  Data and other attributes defined here:\n",
            " |  \n",
            " |  _field_defaults = {}\n",
            " |  \n",
            " |  _fields = ('name', 'age', 'blood_group', 'loc_latitude', 'loc_longitud...\n",
            " |  \n",
            " |  _fields_defaults = {}\n",
            " |  \n",
            " |  ----------------------------------------------------------------------\n",
            " |  Methods inherited from builtins.tuple:\n",
            " |  \n",
            " |  __add__(self, value, /)\n",
            " |      Return self+value.\n",
            " |  \n",
            " |  __contains__(self, key, /)\n",
            " |      Return key in self.\n",
            " |  \n",
            " |  __eq__(self, value, /)\n",
            " |      Return self==value.\n",
            " |  \n",
            " |  __ge__(self, value, /)\n",
            " |      Return self>=value.\n",
            " |  \n",
            " |  __getattribute__(self, name, /)\n",
            " |      Return getattr(self, name).\n",
            " |  \n",
            " |  __getitem__(self, key, /)\n",
            " |      Return self[key].\n",
            " |  \n",
            " |  __gt__(self, value, /)\n",
            " |      Return self>value.\n",
            " |  \n",
            " |  __hash__(self, /)\n",
            " |      Return hash(self).\n",
            " |  \n",
            " |  __iter__(self, /)\n",
            " |      Implement iter(self).\n",
            " |  \n",
            " |  __le__(self, value, /)\n",
            " |      Return self<=value.\n",
            " |  \n",
            " |  __len__(self, /)\n",
            " |      Return len(self).\n",
            " |  \n",
            " |  __lt__(self, value, /)\n",
            " |      Return self<value.\n",
            " |  \n",
            " |  __mul__(self, value, /)\n",
            " |      Return self*value.\n",
            " |  \n",
            " |  __ne__(self, value, /)\n",
            " |      Return self!=value.\n",
            " |  \n",
            " |  __rmul__(self, value, /)\n",
            " |      Return value*self.\n",
            " |  \n",
            " |  count(self, value, /)\n",
            " |      Return number of occurrences of value.\n",
            " |  \n",
            " |  index(self, value, start=0, stop=9223372036854775807, /)\n",
            " |      Return first index of value.\n",
            " |      \n",
            " |      Raises ValueError if the value is not present.\n",
            "\n"
          ],
          "name": "stdout"
        }
      ]
    },
    {
      "cell_type": "code",
      "metadata": {
        "colab": {
          "base_uri": "https://localhost:8080/"
        },
        "id": "PeF7N0qstWTR",
        "outputId": "92a4bb25-cf08-4e26-f168-69977ee890bd"
      },
      "source": [
        "# Generate 10000 random profiles of persons namedtuples\n",
        "from faker import Faker\n",
        "from random import randint\n",
        " \n",
        "fake = Faker('hi_IN')\n",
        " \n",
        "person_list_namedtuple = []\n",
        "for _ in range(10000):\n",
        "  person = Person(\n",
        "      name = fake.name(),\n",
        "      age = randint(1,110),\n",
        "      blood_group=fake.profile()['blood_group'],\n",
        "      loc_latitude = fake.latitude(),\n",
        "      loc_longitude = fake.longitude()\n",
        "  )\n",
        "  person_list_namedtuple.append(person)\n",
        " \n",
        "print(person_list_namedtuple[:5])"
      ],
      "execution_count": null,
      "outputs": [
        {
          "output_type": "stream",
          "text": [
            "[Person(name='हुसैन खान', age=47, blood_group='B+', loc_latitude=Decimal('23.6989555'), loc_longitude=Decimal('-127.723154')), Person(name='ईवा दोषी', age=7, blood_group='B-', loc_latitude=Decimal('72.686369'), loc_longitude=Decimal('145.010566')), Person(name='वफादार, विजया', age=71, blood_group='O+', loc_latitude=Decimal('48.032346'), loc_longitude=Decimal('7.284755')), Person(name='अनाया काले', age=41, blood_group='B+', loc_latitude=Decimal('-61.0529625'), loc_longitude=Decimal('-150.385385')), Person(name='शिरोळे, विजय', age=32, blood_group='AB+', loc_latitude=Decimal('-60.6430825'), loc_longitude=Decimal('-158.572872'))]\n"
          ],
          "name": "stdout"
        }
      ]
    },
    {
      "cell_type": "markdown",
      "metadata": {
        "id": "CPRCsPNJ7W4a"
      },
      "source": [
        "## Profiles using Dictionary"
      ]
    },
    {
      "cell_type": "code",
      "metadata": {
        "colab": {
          "base_uri": "https://localhost:8080/"
        },
        "id": "yLKYiq8N7hPu",
        "outputId": "1893ecb9-5380-4fd9-e445-a135631410fb"
      },
      "source": [
        "# Generate 10000 random profiles of persons namedtuples\n",
        "from faker import Faker\n",
        "from random import randint\n",
        " \n",
        "fake = Faker('hi_IN') # Setup for hindi indian names\n",
        "\n",
        "person_list_dictionary = []\n",
        "for _ in range(10000):\n",
        "  person = {\n",
        "      'name' : fake.name(),\n",
        "      'age' : randint(1,110),\n",
        "      'blood_group' : fake.profile()['blood_group'],\n",
        "      'loc_latitude' : fake.latitude(),\n",
        "      'loc_longitude' : fake.longitude()\n",
        "  }\n",
        "  person_list_dictionary.append(person)\n",
        " \n",
        "print(person_list_dictionary[:5])"
      ],
      "execution_count": null,
      "outputs": [
        {
          "output_type": "stream",
          "text": [
            "[{'name': 'रोहन लाला', 'age': 99, 'blood_group': 'B+', 'loc_latitude': Decimal('-81.402400'), 'loc_longitude': Decimal('-66.799654')}, {'name': 'दारा, निखिल', 'age': 38, 'blood_group': 'A+', 'loc_latitude': Decimal('-15.636785'), 'loc_longitude': Decimal('33.935325')}, {'name': 'ढींगरा, पार्थ', 'age': 62, 'blood_group': 'B+', 'loc_latitude': Decimal('-79.4434325'), 'loc_longitude': Decimal('59.699349')}, {'name': 'साया, मरियम', 'age': 79, 'blood_group': 'B+', 'loc_latitude': Decimal('3.5417725'), 'loc_longitude': Decimal('90.267110')}, {'name': 'दयाल, सरस्वती', 'age': 21, 'blood_group': 'B-', 'loc_latitude': Decimal('4.5579725'), 'loc_longitude': Decimal('10.255283')}]\n"
          ],
          "name": "stdout"
        }
      ]
    },
    {
      "cell_type": "markdown",
      "metadata": {
        "id": "ytRJssoy8OKB"
      },
      "source": [
        "## Most common Blood group\n",
        "Find the most common blood group and compare timing for both namedtuple and dictionary\n"
      ]
    },
    {
      "cell_type": "code",
      "metadata": {
        "colab": {
          "base_uri": "https://localhost:8080/"
        },
        "id": "ZD3RFUmC3w1b",
        "outputId": "4c54fe94-5bc3-4310-bbc5-329c236af619"
      },
      "source": [
        "## list of namedtuples\n",
        "from timeit import timeit\n",
        "from collections import Counter\n",
        "\n",
        "print('Most Common Blood Group: ',Counter([p.blood_group for p in person_list_namedtuple]).most_common(1))\n",
        "print('Time for 1000 iterations',timeit('Counter([p.blood_group for p in person_list_namedtuple]).most_common(1)',globals=globals(),number=1000),'secs')"
      ],
      "execution_count": null,
      "outputs": [
        {
          "output_type": "stream",
          "text": [
            "Most Common Blood Group:  [('A-', 1280)]\n",
            "Time for 1000 iterations 1.556765914999687 secs\n"
          ],
          "name": "stdout"
        }
      ]
    },
    {
      "cell_type": "code",
      "metadata": {
        "colab": {
          "base_uri": "https://localhost:8080/"
        },
        "id": "dxs28DcW85BF",
        "outputId": "4ca8be55-9dcf-46cf-d083-6ee6b50821d7"
      },
      "source": [
        "## list of dictionaries\n",
        "from timeit import timeit\n",
        "print('Most Common Blood Group: ',Counter([p['blood_group'] for p in person_list_dictionary]).most_common(1))\n",
        "print('Time for 1000 iterations',timeit('Counter([p[\\'blood_group\\'] for p in person_list_dictionary]).most_common(1)',globals=globals(),number=1000),'secs')"
      ],
      "execution_count": null,
      "outputs": [
        {
          "output_type": "stream",
          "text": [
            "Most Common Blood Group:  [('O+', 1308)]\n",
            "Time for 1000 iterations 1.241661342000043 secs\n"
          ],
          "name": "stdout"
        }
      ]
    },
    {
      "cell_type": "markdown",
      "metadata": {
        "id": "TbgahMnWGrUV"
      },
      "source": [
        "Summary: Finding most common bloodgroup  \n",
        "Time for 10000 iterations (namedtuples): 1.5567 secs  \n",
        "Time for 10000 iterations (dictionary): 1.2416 secs"
      ]
    },
    {
      "cell_type": "markdown",
      "metadata": {
        "id": "PLENhDB6-LSj"
      },
      "source": [
        "## Mean current location\n",
        "Find the mean current location and compare timing for both namedtuple and dictionary\n"
      ]
    },
    {
      "cell_type": "code",
      "metadata": {
        "colab": {
          "base_uri": "https://localhost:8080/"
        },
        "id": "NUC-UGHK-LSl",
        "outputId": "e7836ca3-31e1-4602-8981-aea2d58d4d6c"
      },
      "source": [
        "## list of namedtuples\n",
        "from timeit import timeit\n",
        "def avg(list): \n",
        "    return sum(list)/len(list) \n",
        "print('Mean Current Location ',list(map(avg,zip(*[(p.loc_latitude,p.loc_longitude) for p in person_list_namedtuple]))))\n",
        "print('Time for 1000 iterations',timeit('list(map(avg,zip(*[(p.loc_latitude,p.loc_longitude) for p in person_list_namedtuple])))',globals=globals(),number=1000),'secs')"
      ],
      "execution_count": null,
      "outputs": [
        {
          "output_type": "stream",
          "text": [
            "Mean Current Location  [Decimal('0.13796718555'), Decimal('0.9295106505')]\n",
            "Time for 1000 iterations 4.3608958879999875 secs\n"
          ],
          "name": "stdout"
        }
      ]
    },
    {
      "cell_type": "code",
      "metadata": {
        "colab": {
          "base_uri": "https://localhost:8080/"
        },
        "id": "1FrpK7RfB6zL",
        "outputId": "ea8a00ed-0526-40c3-959a-ea443ef30cd8"
      },
      "source": [
        "## list of dictionaries\n",
        "from timeit import timeit\n",
        "def avg(list): \n",
        "    return sum(list)/len(list) \n",
        "print('Mean Current Location ',list(map(avg,zip(*[(p['loc_latitude'],p['loc_longitude']) for p in person_list_dictionary]))))\n",
        "print('Time for 1000 iterations',timeit('list(map(avg,zip(*[(p[\\'loc_latitude\\'],p[\\'loc_longitude\\']) for p in person_list_dictionary])))',globals=globals(),number=1000),'secs')"
      ],
      "execution_count": null,
      "outputs": [
        {
          "output_type": "stream",
          "text": [
            "Mean Current Location  [Decimal('0.2396674799'), Decimal('-0.4985927063')]\n",
            "Time for 1000 iterations 3.618344494000013 secs\n"
          ],
          "name": "stdout"
        }
      ]
    },
    {
      "cell_type": "markdown",
      "metadata": {
        "id": "J4H-8Wg1HI8l"
      },
      "source": [
        "Summary: Finding mean current location  \n",
        "Time for 1000 iterations (namedtuples): 4.3608 secs  \n",
        "Time for 1000 iterations (dictionary): 3.6183 secs"
      ]
    },
    {
      "cell_type": "markdown",
      "metadata": {
        "id": "qvECiEqUC9zi"
      },
      "source": [
        "## Oldest person age\n",
        "Find the age of oldest person and compare timing for both namedtuple and dictionary\n"
      ]
    },
    {
      "cell_type": "code",
      "metadata": {
        "colab": {
          "base_uri": "https://localhost:8080/"
        },
        "id": "S2xkOmDlC9zn",
        "outputId": "a5ef7078-d504-434a-ba41-1399b53cb52c"
      },
      "source": [
        "## list of namedtuples\n",
        "from timeit import timeit\n",
        "\n",
        "print('oldest person age ',max([p.age for p in person_list_namedtuple]))\n",
        "print('Time for 1000 iterations',timeit('max([p.age for p in person_list_namedtuple])',globals=globals(),number=1000),'secs')"
      ],
      "execution_count": null,
      "outputs": [
        {
          "output_type": "stream",
          "text": [
            "oldest person age  110\n",
            "Time for 1000 iterations 1.0085335189999967 secs\n"
          ],
          "name": "stdout"
        }
      ]
    },
    {
      "cell_type": "code",
      "metadata": {
        "colab": {
          "base_uri": "https://localhost:8080/"
        },
        "id": "PXfOI_uGDjw2",
        "outputId": "938cb762-f77d-4e1d-edbe-a88bac2003d4"
      },
      "source": [
        "## list of namedtuples\n",
        "from timeit import timeit\n",
        "\n",
        "print('oldest person age ',max([p['age'] for p in person_list_dictionary]))\n",
        "print('Time for 1000 iterations',timeit('max([p[\\'age\\'] for p in person_list_dictionary])',globals=globals(),number=1000),'secs')"
      ],
      "execution_count": null,
      "outputs": [
        {
          "output_type": "stream",
          "text": [
            "oldest person age  110\n",
            "Time for 1000 iterations 0.6514673420000179 secs\n"
          ],
          "name": "stdout"
        }
      ]
    },
    {
      "cell_type": "markdown",
      "metadata": {
        "id": "nM0n3xn0HSna"
      },
      "source": [
        "Summary: Finding oldest person age \n",
        "Time for 1000 iterations (namedtuples): 1.0085 secs  \n",
        "Time for 1000 iterations (dictionary): 0.6514 secs"
      ]
    },
    {
      "cell_type": "markdown",
      "metadata": {
        "id": "ghFV5ZdnDKGA"
      },
      "source": [
        "## Average Age\n",
        "Find the average age and compare timing for both namedtuple and dictionary\n"
      ]
    },
    {
      "cell_type": "code",
      "metadata": {
        "colab": {
          "base_uri": "https://localhost:8080/"
        },
        "id": "Jf95tddZEWT7",
        "outputId": "15a3464a-3cf0-4a04-a875-5dbc6c6e3263"
      },
      "source": [
        "## list of namedtuples\n",
        "from timeit import timeit\n",
        "def avg(list): \n",
        "    return sum(list)/len(list) \n",
        "    \n",
        "print('Mean Current Location ',avg([p.age for p in person_list_namedtuple]))\n",
        "print('Time for 1000 iterations',timeit('avg([p.age for p in person_list_namedtuple])',globals=globals(),number=1000),'secs')"
      ],
      "execution_count": null,
      "outputs": [
        {
          "output_type": "stream",
          "text": [
            "Mean Current Location  56.0859\n",
            "Time for 1000 iterations 0.8829155189999938 secs\n"
          ],
          "name": "stdout"
        }
      ]
    },
    {
      "cell_type": "code",
      "metadata": {
        "colab": {
          "base_uri": "https://localhost:8080/"
        },
        "id": "-LWL4gpYDKGF",
        "outputId": "22752d64-66b0-495b-b977-b5cb9e0dc535"
      },
      "source": [
        "## list of dictionaries\n",
        "from timeit import timeit\n",
        "def avg(list): \n",
        "    return sum(list)/len(list) \n",
        "    \n",
        "print('Mean Current Location ',avg([p['age'] for p in person_list_dictionary]))\n",
        "print('Time for 1000 iterations',timeit('avg([p[\\'age\\'] for p in person_list_dictionary])',globals=globals(),number=1000),'secs')"
      ],
      "execution_count": null,
      "outputs": [
        {
          "output_type": "stream",
          "text": [
            "Mean Current Location  55.9585\n",
            "Time for 1000 iterations 0.5485623059999796 secs\n"
          ],
          "name": "stdout"
        }
      ]
    },
    {
      "cell_type": "markdown",
      "metadata": {
        "id": "79dcOyiNIGt7"
      },
      "source": [
        "Summary: Finding oldest person age \n",
        "Time for 1000 iterations (namedtuples): 0.8829 secs  \n",
        "Time for 1000 iterations (dictionary): 0.5485 secs"
      ]
    },
    {
      "cell_type": "markdown",
      "metadata": {
        "id": "G4gUOP1AlOTU"
      },
      "source": [
        "## Part 3\n",
        "Create a fake data (you can use Faker for company names) for imaginary stock exchange for top 100 companies (name, symbol, open, high, close). Assign a random weight to all the companies. Calculate (for 50 instances during the day) and show what value stock market started at, what was the highest value during the day and where did it end. Make sure your open, high, close are not totally random. "
      ]
    },
    {
      "cell_type": "code",
      "metadata": {
        "id": "8VLbCRkDlNIt",
        "colab": {
          "base_uri": "https://localhost:8080/"
        },
        "outputId": "3c7089c0-d2c3-4b6b-da27-3727ba952e0c"
      },
      "source": [
        "from collections import namedtuple\n",
        "Stock = namedtuple('Stock', 'name symbol open high close weight')\n",
        "Stock.__doc__ = 'Representation of Stock of a company containing Fields: name,symbol, open, high, close,weight'\n",
        "Stock.name.__doc__ = \"Name of the Company\"\n",
        "Stock.symbol.__doc__ = \"Symbol of the Company\"\n",
        "Stock.open.__doc__ = \"Opening Stock price\"\n",
        "Stock.high.__doc__ = \"Highest price of Stock during day\"\n",
        "Stock.close.__doc__ = \"Closing price of Stock\"\n",
        "Stock.weight.__doc__ = \"Weight of the stock in stock market\"\n",
        "\n",
        "help(Stock)"
      ],
      "execution_count": null,
      "outputs": [
        {
          "output_type": "stream",
          "text": [
            "Help on class Stock in module __main__:\n",
            "\n",
            "class Stock(builtins.tuple)\n",
            " |  Stock(name, symbol, open, high, close, weight)\n",
            " |  \n",
            " |  Representation of Stock of a company containing Fields: name,symbol, open, high, close,weight\n",
            " |  \n",
            " |  Method resolution order:\n",
            " |      Stock\n",
            " |      builtins.tuple\n",
            " |      builtins.object\n",
            " |  \n",
            " |  Methods defined here:\n",
            " |  \n",
            " |  __getnewargs__(self)\n",
            " |      Return self as a plain tuple.  Used by copy and pickle.\n",
            " |  \n",
            " |  __repr__(self)\n",
            " |      Return a nicely formatted representation string\n",
            " |  \n",
            " |  _asdict(self)\n",
            " |      Return a new OrderedDict which maps field names to their values.\n",
            " |  \n",
            " |  _replace(_self, **kwds)\n",
            " |      Return a new Stock object replacing specified fields with new values\n",
            " |  \n",
            " |  ----------------------------------------------------------------------\n",
            " |  Class methods defined here:\n",
            " |  \n",
            " |  _make(iterable) from builtins.type\n",
            " |      Make a new Stock object from a sequence or iterable\n",
            " |  \n",
            " |  ----------------------------------------------------------------------\n",
            " |  Static methods defined here:\n",
            " |  \n",
            " |  __new__(_cls, name, symbol, open, high, close, weight)\n",
            " |      Create new instance of Stock(name, symbol, open, high, close, weight)\n",
            " |  \n",
            " |  ----------------------------------------------------------------------\n",
            " |  Data descriptors defined here:\n",
            " |  \n",
            " |  name\n",
            " |      Name of the Company\n",
            " |  \n",
            " |  symbol\n",
            " |      Symbol of the Company\n",
            " |  \n",
            " |  open\n",
            " |      Opening Stock price\n",
            " |  \n",
            " |  high\n",
            " |      Highest price of Stock during day\n",
            " |  \n",
            " |  close\n",
            " |      Closing price of Stock\n",
            " |  \n",
            " |  weight\n",
            " |      Weight of the stock in stock market\n",
            " |  \n",
            " |  ----------------------------------------------------------------------\n",
            " |  Data and other attributes defined here:\n",
            " |  \n",
            " |  _field_defaults = {}\n",
            " |  \n",
            " |  _fields = ('name', 'symbol', 'open', 'high', 'close', 'weight')\n",
            " |  \n",
            " |  _fields_defaults = {}\n",
            " |  \n",
            " |  ----------------------------------------------------------------------\n",
            " |  Methods inherited from builtins.tuple:\n",
            " |  \n",
            " |  __add__(self, value, /)\n",
            " |      Return self+value.\n",
            " |  \n",
            " |  __contains__(self, key, /)\n",
            " |      Return key in self.\n",
            " |  \n",
            " |  __eq__(self, value, /)\n",
            " |      Return self==value.\n",
            " |  \n",
            " |  __ge__(self, value, /)\n",
            " |      Return self>=value.\n",
            " |  \n",
            " |  __getattribute__(self, name, /)\n",
            " |      Return getattr(self, name).\n",
            " |  \n",
            " |  __getitem__(self, key, /)\n",
            " |      Return self[key].\n",
            " |  \n",
            " |  __gt__(self, value, /)\n",
            " |      Return self>value.\n",
            " |  \n",
            " |  __hash__(self, /)\n",
            " |      Return hash(self).\n",
            " |  \n",
            " |  __iter__(self, /)\n",
            " |      Implement iter(self).\n",
            " |  \n",
            " |  __le__(self, value, /)\n",
            " |      Return self<=value.\n",
            " |  \n",
            " |  __len__(self, /)\n",
            " |      Return len(self).\n",
            " |  \n",
            " |  __lt__(self, value, /)\n",
            " |      Return self<value.\n",
            " |  \n",
            " |  __mul__(self, value, /)\n",
            " |      Return self*value.\n",
            " |  \n",
            " |  __ne__(self, value, /)\n",
            " |      Return self!=value.\n",
            " |  \n",
            " |  __rmul__(self, value, /)\n",
            " |      Return value*self.\n",
            " |  \n",
            " |  count(self, value, /)\n",
            " |      Return number of occurrences of value.\n",
            " |  \n",
            " |  index(self, value, start=0, stop=9223372036854775807, /)\n",
            " |      Return first index of value.\n",
            " |      \n",
            " |      Raises ValueError if the value is not present.\n",
            "\n"
          ],
          "name": "stdout"
        }
      ]
    },
    {
      "cell_type": "code",
      "metadata": {
        "colab": {
          "base_uri": "https://localhost:8080/"
        },
        "id": "BZVLVxDypbaX",
        "outputId": "fa01cf7d-69fa-4b1c-edc3-72341abea9cf"
      },
      "source": [
        "# Generate 10000 random profiles of persons namedtuples\n",
        "from faker import Faker\n",
        "from random import uniform\n",
        "import random\n",
        " \n",
        "fake = Faker()\n",
        " \n",
        "stock_exchange_list = []\n",
        "num_companies = 100\n",
        "\n",
        "company_weight_list = random.sample(range(1,150),num_companies)\n",
        "total_weight = sum(company_weight_list)\n",
        "company_weight_list = [w/total_weight for w in company_weight_list]\n",
        "\n",
        "stock_market_value = 0\n",
        "for i in range(num_companies):\n",
        "  random_price = uniform(20.0,200.0) \n",
        "  stock = Stock(\n",
        "      name = fake.company(),\n",
        "      symbol = fake.unique.first_name(),\n",
        "      open = random_price,\n",
        "      high = random_price, # starting high price is same as opening price\n",
        "      close = random_price, # starting close price is same as opening price\n",
        "      weight = company_weight_list[i]\n",
        "  )\n",
        "  stock_exchange_list.append(stock)\n",
        "  stock_market_value += random_price*company_weight_list[i]\n",
        " \n",
        "print(stock_exchange_list[:5])\n",
        "print('Stock market value',stock_market_value)"
      ],
      "execution_count": null,
      "outputs": [
        {
          "output_type": "stream",
          "text": [
            "[Stock(name='Shelton LLC', symbol='John', open=163.31129343124385, high=163.31129343124385, close=163.31129343124385, weight=0.004636574389744988), Stock(name='Booth, Guzman and Harper', symbol='Daniel', open=113.886537697358, high=113.886537697358, close=113.886537697358, weight=0.002454657029864994), Stock(name='Turner-Chase', symbol='David', open=167.71140045566645, high=167.71140045566645, close=167.71140045566645, weight=0.01895540706395745), Stock(name='Schneider Ltd', symbol='Dawn', open=176.58878204732548, high=176.58878204732548, close=176.58878204732548, weight=0.01622801036410746), Stock(name='Anderson and Sons', symbol='Melissa', open=124.80180018029984, high=124.80180018029984, close=124.80180018029984, weight=0.010909586799399972)]\n",
            "Stock market value 113.97895921127427\n"
          ],
          "name": "stdout"
        }
      ]
    },
    {
      "cell_type": "code",
      "metadata": {
        "id": "h9ww6gDG4T7_",
        "colab": {
          "base_uri": "https://localhost:8080/"
        },
        "outputId": "6a503254-88ba-4f1b-a9d4-774a55b690d7"
      },
      "source": [
        "# Emulate stock market\n",
        "\n",
        "# Keep track of stock_market prices\n",
        "stock_market_progress = [stock_market_value]\n",
        "num_sessions = 50\n",
        "for s in range(num_sessions):\n",
        "  new_stock_market_value = 0\n",
        "  for i in range(num_companies):\n",
        "    new_price = stock_exchange_list[i].close * random.uniform(0.8,1.2)\n",
        "    high_price = max(new_price,stock_exchange_list[i].high)\n",
        "    stock_exchange_list[i] = stock_exchange_list[i]._replace(high=high_price,close=new_price)\n",
        "    new_stock_market_value += stock_exchange_list[i].close*stock_exchange_list[i].weight\n",
        "\n",
        "  stock_market_progress.append(new_stock_market_value)    \n",
        "\n",
        "print('Stock Market Start: ',stock_market_progress[0])\n",
        "print('Stock Market close: ',stock_market_progress[-1])\n",
        "print('Stock Market High: ',max(stock_market_progress))\n"
      ],
      "execution_count": null,
      "outputs": [
        {
          "output_type": "stream",
          "text": [
            "Stock Market Start:  113.97895921127427\n",
            "Stock Market close:  109.08066407180996\n",
            "Stock Market High:  135.39093391230628\n"
          ],
          "name": "stdout"
        }
      ]
    },
    {
      "cell_type": "code",
      "metadata": {
        "colab": {
          "base_uri": "https://localhost:8080/",
          "height": 282
        },
        "id": "C_G1uBiLFXT6",
        "outputId": "12be3beb-2d56-4e0c-c69a-3136b6e42f7c"
      },
      "source": [
        "import matplotlib.pyplot as plt\n",
        "%matplotlib inline\n",
        "plt.plot(stock_market_progress)"
      ],
      "execution_count": null,
      "outputs": [
        {
          "output_type": "execute_result",
          "data": {
            "text/plain": [
              "[<matplotlib.lines.Line2D at 0x7efc0f0b4e10>]"
            ]
          },
          "metadata": {
            "tags": []
          },
          "execution_count": 36
        },
        {
          "output_type": "display_data",
          "data": {
            "image/png": "[encoded data removed]",
            "text/plain": [
              "<Figure size 432x288 with 1 Axes>"
            ]
          },
          "metadata": {
            "tags": [],
            "needs_background": "light"
          }
        }
      ]
    }
  ]
}